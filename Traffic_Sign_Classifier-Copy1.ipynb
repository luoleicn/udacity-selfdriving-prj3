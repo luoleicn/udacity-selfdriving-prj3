{
 "cells": [
  {
   "cell_type": "markdown",
   "metadata": {},
   "source": [
    "# Self-Driving Car Engineer Nanodegree\n",
    "\n",
    "## Deep Learning\n",
    "\n",
    "## Project: Build a Traffic Sign Recognition Classifier\n",
    "\n",
    "In this notebook, a template is provided for you to implement your functionality in stages, which is required to successfully complete this project. If additional code is required that cannot be included in the notebook, be sure that the Python code is successfully imported and included in your submission if necessary. \n",
    "\n",
    "> **Note**: Once you have completed all of the code implementations, you need to finalize your work by exporting the iPython Notebook as an HTML document. Before exporting the notebook to html, all of the code cells need to have been run so that reviewers can see the final implementation and output. You can then export the notebook by using the menu above and navigating to  \\n\",\n",
    "    \"**File -> Download as -> HTML (.html)**. Include the finished document along with this notebook as your submission. \n",
    "\n",
    "In addition to implementing code, there is a writeup to complete. The writeup should be completed in a separate file, which can be either a markdown file or a pdf document. There is a [write up template](https://github.com/udacity/CarND-Traffic-Sign-Classifier-Project/blob/master/writeup_template.md) that can be used to guide the writing process. Completing the code template and writeup template will cover all of the [rubric points](https://review.udacity.com/#!/rubrics/481/view) for this project.\n",
    "\n",
    "The [rubric](https://review.udacity.com/#!/rubrics/481/view) contains \"Stand Out Suggestions\" for enhancing the project beyond the minimum requirements. The stand out suggestions are optional. If you decide to pursue the \"stand out suggestions\", you can include the code in this Ipython notebook and also discuss the results in the writeup file.\n",
    "\n",
    "\n",
    ">**Note:** Code and Markdown cells can be executed using the **Shift + Enter** keyboard shortcut. In addition, Markdown cells can be edited by typically double-clicking the cell to enter edit mode."
   ]
  },
  {
   "cell_type": "markdown",
   "metadata": {},
   "source": [
    "---\n",
    "## Step 0: Load The Data"
   ]
  },
  {
   "cell_type": "code",
   "execution_count": 1,
   "metadata": {},
   "outputs": [],
   "source": [
    "# Load pickled data\n",
    "import pickle\n",
    "\n",
    "# TODO: Fill this in based on where you saved the training and testing data\n",
    "\n",
    "training_file = \"../traffic-sign-dataset/train.p\"\n",
    "validation_file= \"../traffic-sign-dataset/valid.p\"\n",
    "testing_file = \"../traffic-sign-dataset/test.p\"\n",
    "\n",
    "with open(training_file, mode='rb') as f:\n",
    "    train = pickle.load(f)\n",
    "with open(validation_file, mode='rb') as f:\n",
    "    valid = pickle.load(f)\n",
    "with open(testing_file, mode='rb') as f:\n",
    "    test = pickle.load(f)\n",
    "    \n",
    "X_train, y_train = train['features'], train['labels']\n",
    "X_valid, y_valid = valid['features'], valid['labels']\n",
    "X_test, y_test = test['features'], test['labels']"
   ]
  },
  {
   "cell_type": "markdown",
   "metadata": {},
   "source": [
    "---\n",
    "\n",
    "## Step 1: Dataset Summary & Exploration\n",
    "\n",
    "The pickled data is a dictionary with 4 key/value pairs:\n",
    "\n",
    "- `'features'` is a 4D array containing raw pixel data of the traffic sign images, (num examples, width, height, channels).\n",
    "- `'labels'` is a 1D array containing the label/class id of the traffic sign. The file `signnames.csv` contains id -> name mappings for each id.\n",
    "- `'sizes'` is a list containing tuples, (width, height) representing the original width and height the image.\n",
    "- `'coords'` is a list containing tuples, (x1, y1, x2, y2) representing coordinates of a bounding box around the sign in the image. **THESE COORDINATES ASSUME THE ORIGINAL IMAGE. THE PICKLED DATA CONTAINS RESIZED VERSIONS (32 by 32) OF THESE IMAGES**\n",
    "\n",
    "Complete the basic data summary below. Use python, numpy and/or pandas methods to calculate the data summary rather than hard coding the results. For example, the [pandas shape method](http://pandas.pydata.org/pandas-docs/stable/generated/pandas.DataFrame.shape.html) might be useful for calculating some of the summary results. "
   ]
  },
  {
   "cell_type": "code",
   "execution_count": 2,
   "metadata": {},
   "outputs": [
    {
     "name": "stdout",
     "output_type": "stream",
     "text": [
      "(34799, 32, 32, 3)\n",
      "(34799,)\n",
      "(4410, 32, 32, 3)\n",
      "(4410,)\n",
      "(12630, 32, 32, 3)\n",
      "(12630,)\n"
     ]
    }
   ],
   "source": [
    "import numpy as np\n",
    "\n",
    "print(X_train.shape)\n",
    "print(y_train.shape)\n",
    "\n",
    "print(X_valid.shape)\n",
    "print(y_valid.shape)\n",
    "\n",
    "print(X_test.shape)\n",
    "print(y_test.shape)\n"
   ]
  },
  {
   "cell_type": "markdown",
   "metadata": {},
   "source": [
    "### Provide a Basic Summary of the Data Set Using Python, Numpy and/or Pandas"
   ]
  },
  {
   "cell_type": "code",
   "execution_count": 3,
   "metadata": {
    "scrolled": true
   },
   "outputs": [
    {
     "name": "stdout",
     "output_type": "stream",
     "text": [
      "Number of training examples = 34799\n",
      "Number of testing examples = 12630\n",
      "Image data shape = (32, 32, 3)\n",
      "Number of classes = 43\n",
      "[(0, 180), (1, 1980), (2, 2010), (3, 1260), (4, 1770), (5, 1650), (6, 360), (7, 1290), (8, 1260), (9, 1320), (10, 1800), (11, 1170), (12, 1890), (13, 1920), (14, 690), (15, 540), (16, 360), (17, 990), (18, 1080), (19, 180), (20, 300), (21, 270), (22, 330), (23, 450), (24, 240), (25, 1350), (26, 540), (27, 210), (28, 480), (29, 240), (30, 390), (31, 690), (32, 210), (33, 599), (34, 360), (35, 1080), (36, 330), (37, 180), (38, 1860), (39, 270), (40, 300), (41, 210), (42, 210)]\n"
     ]
    }
   ],
   "source": [
    "### Replace each question mark with the appropriate value. \n",
    "### Use python, pandas or numpy methods rather than hard coding the results\n",
    "\n",
    "# TODO: Number of training examples\n",
    "n_train = X_train.shape[0]\n",
    "\n",
    "# TODO: Number of validation examples\n",
    "n_validation = X_valid.shape[0]\n",
    "\n",
    "# TODO: Number of testing examples.\n",
    "n_test = X_test.shape[0]\n",
    "\n",
    "# TODO: What's the shape of an traffic sign image?\n",
    "image_shape = X_train.shape[1:4]\n",
    "\n",
    "# TODO: How many unique classes/labels there are in the dataset.\n",
    "n_classes = len(np.unique(y_train))\n",
    "\n",
    "print(\"Number of training examples =\", n_train)\n",
    "print(\"Number of testing examples =\", n_test)\n",
    "print(\"Image data shape =\", image_shape)\n",
    "print(\"Number of classes =\", n_classes)\n",
    "\n",
    "def get_label_counts(labels):\n",
    "    label_count = {}\n",
    "    for label in labels:\n",
    "        if label not in label_count:\n",
    "            label_count[label] = 0\n",
    "        label_count[label] += 1\n",
    "    return sorted(label_count.items())\n",
    "\n",
    "print(get_label_counts(y_train))\n"
   ]
  },
  {
   "cell_type": "markdown",
   "metadata": {},
   "source": [
    "### Include an exploratory visualization of the dataset"
   ]
  },
  {
   "cell_type": "markdown",
   "metadata": {},
   "source": [
    "Visualize the German Traffic Signs Dataset using the pickled file(s). This is open ended, suggestions include: plotting traffic sign images, plotting the count of each sign, etc. \n",
    "\n",
    "The [Matplotlib](http://matplotlib.org/) [examples](http://matplotlib.org/examples/index.html) and [gallery](http://matplotlib.org/gallery.html) pages are a great resource for doing visualizations in Python.\n",
    "\n",
    "**NOTE:** It's recommended you start with something simple first. If you wish to do more, come back to it after you've completed the rest of the sections. It can be interesting to look at the distribution of classes in the training, validation and test set. Is the distribution the same? Are there more examples of some classes than others?"
   ]
  },
  {
   "cell_type": "code",
   "execution_count": 4,
   "metadata": {},
   "outputs": [
    {
     "data": {
      "image/png": "[encoded data removed]",
      "text/plain": [
       "<Figure size 72x72 with 1 Axes>"
      ]
     },
     "metadata": {
      "needs_background": "light"
     },
     "output_type": "display_data"
    },
    {
     "name": "stdout",
     "output_type": "stream",
     "text": [
      "13\n"
     ]
    },
    {
     "data": {
      "image/png": "[encoded data removed]",
      "text/plain": [
       "<Figure size 432x288 with 1 Axes>"
      ]
     },
     "metadata": {
      "needs_background": "light"
     },
     "output_type": "display_data"
    },
    {
     "name": "stdout",
     "output_type": "stream",
     "text": [
      "gray_img_shape:(32, 32)\n",
      "randx=-2, randy=-2\n",
      "(32, 32)\n"
     ]
    },
    {
     "data": {
      "image/png": "[encoded data removed]",
      "text/plain": [
       "<Figure size 432x288 with 1 Axes>"
      ]
     },
     "metadata": {
      "needs_background": "light"
     },
     "output_type": "display_data"
    },
    {
     "name": "stdout",
     "output_type": "stream",
     "text": [
      "angle=4.83442121412169\n",
      "(32, 32)\n"
     ]
    },
    {
     "data": {
      "image/png": "[encoded data removed]",
      "text/plain": [
       "<Figure size 432x288 with 1 Axes>"
      ]
     },
     "metadata": {
      "needs_background": "light"
     },
     "output_type": "display_data"
    },
    {
     "name": "stdout",
     "output_type": "stream",
     "text": [
      "(32, 32)\n"
     ]
    },
    {
     "data": {
      "image/png": "[encoded data removed]",
      "text/plain": [
       "<Figure size 432x288 with 1 Axes>"
      ]
     },
     "metadata": {
      "needs_background": "light"
     },
     "output_type": "display_data"
    }
   ],
   "source": [
    "### Data exploration visualization code goes here.\n",
    "### Feel free to use as many code cells as needed.\n",
    "import matplotlib.pyplot as plt\n",
    "import random\n",
    "import cv2\n",
    "# Visualizations will be shown in the notebook.\n",
    "%matplotlib inline\n",
    "\n",
    "index = random.randint(0, len(X_train))\n",
    "image = X_train[index].squeeze()\n",
    "plt.figure(figsize=(1,1))\n",
    "plt.imshow(image)\n",
    "plt.show()\n",
    "print(y_train[index])\n",
    "\n",
    "\n",
    "gray_img = cv2.cvtColor(image,cv2.COLOR_RGB2GRAY)\n",
    "gray_img = (gray_img-np.mean(gray_img))/np.std(gray_img)\n",
    "plt.imshow(gray_img,cmap=\"gray\")\n",
    "plt.show()\n",
    "\n",
    "print(\"gray_img_shape:{}\".format(gray_img.shape))\n",
    "#print(\"gray_img_shape:{}\".format(gray_img.reshape(32,32,1)))\n",
    "\n",
    "#Translation\n",
    "randX = random.randint(-2,2)\n",
    "randY = random.randint(-2,2)\n",
    "print(\"randx={}, randy={}\".format(randX, randY))\n",
    "M = np.float32([[1,0,randX],[0,1,randY]])\n",
    "dst = cv2.warpAffine(gray_img,M,(32,32))\n",
    "print(dst.shape)\n",
    "plt.imshow(dst, cmap=\"gray\")\n",
    "plt.show()\n",
    "\n",
    "#rotation\n",
    "angle = random.uniform(-15,15)\n",
    "print(\"angle={}\".format(angle))\n",
    "M = cv2.getRotationMatrix2D((32/2,32/2),angle,1)\n",
    "dst = cv2.warpAffine(gray_img,M,(32,32))\n",
    "print(dst.shape)\n",
    "plt.imshow(dst)\n",
    "plt.show()\n",
    "\n",
    "#noise\n",
    "noise = np.abs(np.random.randn(32, 32)*0.3)\n",
    "dst = gray_img + noise\n",
    "print(dst.shape)\n",
    "plt.imshow(dst, cmap=\"gray\")\n",
    "plt.show()"
   ]
  },
  {
   "cell_type": "markdown",
   "metadata": {},
   "source": [
    "----\n",
    "\n",
    "## Step 2: Design and Test a Model Architecture\n",
    "\n",
    "Design and implement a deep learning model that learns to recognize traffic signs. Train and test your model on the [German Traffic Sign Dataset](http://benchmark.ini.rub.de/?section=gtsrb&subsection=dataset).\n",
    "\n",
    "The LeNet-5 implementation shown in the [classroom](https://classroom.udacity.com/nanodegrees/nd013/parts/fbf77062-5703-404e-b60c-95b78b2f3f9e/modules/6df7ae49-c61c-4bb2-a23e-6527e69209ec/lessons/601ae704-1035-4287-8b11-e2c2716217ad/concepts/d4aca031-508f-4e0b-b493-e7b706120f81) at the end of the CNN lesson is a solid starting point. You'll have to change the number of classes and possibly the preprocessing, but aside from that it's plug and play! \n",
    "\n",
    "With the LeNet-5 solution from the lecture, you should expect a validation set accuracy of about 0.89. To meet specifications, the validation set accuracy will need to be at least 0.93. It is possible to get an even higher accuracy, but 0.93 is the minimum for a successful project submission. \n",
    "\n",
    "There are various aspects to consider when thinking about this problem:\n",
    "\n",
    "- Neural network architecture (is the network over or underfitting?)\n",
    "- Play around preprocessing techniques (normalization, rgb to grayscale, etc)\n",
    "- Number of examples per label (some have more than others).\n",
    "- Generate fake data.\n",
    "\n",
    "Here is an example of a [published baseline model on this problem](http://yann.lecun.com/exdb/publis/pdf/sermanet-ijcnn-11.pdf). It's not required to be familiar with the approach used in the paper but, it's good practice to try to read papers like these."
   ]
  },
  {
   "cell_type": "markdown",
   "metadata": {},
   "source": [
    "### Pre-process the Data Set (normalization, grayscale, etc.)"
   ]
  },
  {
   "cell_type": "markdown",
   "metadata": {},
   "source": [
    "Minimally, the image data should be normalized so that the data has mean zero and equal variance. For image data, `(pixel - 128)/ 128` is a quick way to approximately normalize the data and can be used in this project. \n",
    "\n",
    "Other pre-processing steps are optional. You can try different techniques to see if it improves performance. \n",
    "\n",
    "Use the code cell (or multiple code cells, if necessary) to implement the first step of your project."
   ]
  },
  {
   "cell_type": "code",
   "execution_count": 5,
   "metadata": {},
   "outputs": [
    {
     "name": "stdout",
     "output_type": "stream",
     "text": [
      "train data size=34799\n",
      "(32, 32, 1)\n",
      "train data size=104397\n"
     ]
    }
   ],
   "source": [
    "### Preprocess the data here. It is required to normalize the data. Other preprocessing steps could include \n",
    "### converting to grayscale, etc.\n",
    "### Feel free to use as many code cells as needed.\n",
    "\n",
    "def preprocess(image):\n",
    "    #gray_img = cv2.cvtColor(image,cv2.COLOR_RGB2GRAY)\n",
    "    #norm_img = (gray_img - np.mean(gray_img))/np.std(gray_img)\n",
    "    #norm_img = (gray_img - 128)/128\n",
    "    #return (norm_img.reshape(32,32,1))\n",
    "    x = cv2.cvtColor(image,cv2.COLOR_RGB2GRAY)\n",
    "    #x = image\n",
    "    x = (x-np.mean(x))/np.std(x)\n",
    "    return x\n",
    "       \n",
    "    \n",
    "def augmentation(composed_features, labels):\n",
    "    feat_ret = []\n",
    "    label_ret = []\n",
    "    for i in range(len(labels)):\n",
    "        label = labels[i]\n",
    "        feats = composed_features[i]\n",
    "        feat_ret.append(feats.reshape(32,32,1))\n",
    "        label_ret.append(label)\n",
    "        \n",
    "        #Translation\n",
    "        #randX = random.randint(-5, 5)\n",
    "        #randY = random.randint(-5,5)\n",
    "        #M = np.float32([[1,0,randX],[0,1,randY]])\n",
    "        #translation_x = cv2.warpAffine(feats,M,(32,32))\n",
    "        #feat_ret.append(translation_x.reshape(32,32,1))\n",
    "        #label_ret.append(label)\n",
    "        \n",
    "        #noise \n",
    "        noise = np.abs(np.random.randn(32, 32)*0.3)\n",
    "        noise_x = feats + noise\n",
    "        feat_ret.append(noise_x.reshape(32,32,1))\n",
    "        label_ret.append(label)\n",
    "\n",
    "        #rotation\n",
    "        angle = random.uniform(-15,15)\n",
    "        M = cv2.getRotationMatrix2D((32/2,32/2),angle,1)\n",
    "        rot_x = cv2.warpAffine(feats,M,(32,32))\n",
    "        feat_ret.append(rot_x.reshape(32,32,1))\n",
    "        label_ret.append(label)\n",
    "    \n",
    "    return feat_ret, label_ret\n",
    "    \n",
    "print(\"train data size={}\".format(len(X_train)))\n",
    "preprocess_train = np.array([preprocess(img) for img in X_train])\n",
    "X_train, y_train = augmentation(preprocess_train, y_train)\n",
    "n_train = len(X_train)\n",
    "\n",
    "X_valid = np.array([preprocess(img).reshape(32,32,1) for img in X_valid])\n",
    "X_test = np.array([preprocess(img).reshape(32,32,1) for img in X_test])\n",
    "print((X_train[0]).shape)\n",
    "print(\"train data size={}\".format(len(X_train)))\n",
    "\n",
    "categoried_train_dat = {}\n",
    "for i in range(len(X_train)):\n",
    "    label  = y_train[i]\n",
    "    data = X_train[i]\n",
    "    #print(data.shape)\n",
    "    if label not in categoried_train_dat:\n",
    "        categoried_train_dat[label] = []\n",
    "    categoried_train_dat[label].append(data)"
   ]
  },
  {
   "cell_type": "markdown",
   "metadata": {},
   "source": [
    "### Model Architecture"
   ]
  },
  {
   "cell_type": "code",
   "execution_count": 6,
   "metadata": {},
   "outputs": [],
   "source": [
    "### Define your architecture here.\n",
    "### Feel free to use as many code cells as needed.\n",
    "\n",
    "import tensorflow as tf\n",
    "SEED = 2018\n",
    "\n",
    "def weight_variable(shape,mean,stddev,name,seed=SEED):\n",
    "    init = tf.truncated_normal(shape,mean=mean,stddev=stddev,seed=SEED)\n",
    "    return tf.Variable(init,name=name)\n",
    "\n",
    "def bias_variable(shape,init_value,name):\n",
    "    init = tf.constant(init_value,shape=shape)\n",
    "    return tf.Variable(init,name=name)\n",
    "\n",
    "def conv2d(x,W,strides,padding,name):\n",
    "    return tf.nn.conv2d(x,W,strides=strides,padding=padding,name=name)\n",
    "\n",
    "def max_2x2_pool(x,padding,name):\n",
    "    return tf.nn.max_pool(x,ksize=[1,2,2,1],strides=[1,2,2,1],padding=padding,name=name)\n",
    "\n",
    "\n",
    "IMG_DEPTH = 1\n",
    "mu =0\n",
    "sigma = 0.05\n",
    "bias_init = 0.05\n",
    "learning_rate=0.001\n",
    "epochs = 20\n",
    "num_per_label = 3\n",
    "keep_rate = 0.5\n",
    "kp_conv = 0.6\n",
    "batch_size = 128\n",
    "\n",
    "weights ={  \n",
    "    'W_conv1': weight_variable([3, 3, IMG_DEPTH, 80], mean=mu, stddev=sigma, name='W_conv1'),\n",
    "    'W_conv2': weight_variable([3, 3, 80, 120], mean=mu, stddev=sigma, name='W_conv2'),\n",
    "    'W_conv3': weight_variable([4, 4, 120, 180], mean=mu, stddev=sigma, name='W_conv3'),\n",
    "    'W_conv4': weight_variable([3, 3, 180, 200], mean=mu, stddev=sigma, name='W_conv4'),\n",
    "    'W_conv5': weight_variable([3, 3, 200, 200], mean=mu, stddev=sigma, name='W_conv5'),\n",
    "    'W_fc1': weight_variable([800, 80], mean=mu, stddev=sigma, name='W_fc1'),\n",
    "    'W_fc2': weight_variable([80, 80], mean=mu, stddev=sigma, name='W_fc2'),\n",
    "    'W_fc3': weight_variable([80, 43], mean=mu, stddev=sigma, name='W_fc3'),\n",
    "}\n",
    "biases = {\n",
    "    'b_conv1': bias_variable(shape=[80], init_value=bias_init, name='b_conv1'),\n",
    "    'b_conv2': bias_variable(shape=[120], init_value=bias_init, name='b_conv2'),\n",
    "    'b_conv3': bias_variable(shape=[180], init_value=bias_init, name='b_conv3'),\n",
    "    'b_conv4': bias_variable(shape=[200], init_value=bias_init, name='b_conv4'),\n",
    "    'b_conv5': bias_variable(shape=[200], init_value=bias_init, name='b_conv5'),\n",
    "    'b_fc1': bias_variable([80], init_value=bias_init, name='b_fc1'),\n",
    "    'b_fc2': bias_variable([80], init_value=bias_init, name='b_fc2'),\n",
    "    'b_fc3': bias_variable([43], init_value=bias_init, name='b_fc3'),\n",
    "}\n",
    "\n",
    "\n",
    "def traffic_model(x,keep_prob,keep_p_conv,weights,biases):\n",
    "    '''\n",
    "    ConvNet model for Traffic sign classifier\n",
    "    x - input image is tensor of shape(n_imgs,img_height,img_width,img_depth)\n",
    "    keep_prob - hyper parameter of the dropout operation\n",
    "    weights - dictionary of the weights for convolution layers and fully connected layers\n",
    "    biases dictionary of the biases for convolutional layers and fully connected layers\n",
    "    '''\n",
    "    # Convolutional block 1\n",
    "    conv1 = conv2d(x, weights['W_conv1'], strides=[1,1,1,1], padding='VALID', name='conv1_op')\n",
    "    conv1_act = tf.nn.relu(conv1 + biases['b_conv1'], name='conv1_act')\n",
    "    conv1_drop = tf.nn.dropout(conv1_act, keep_prob=k_p_conv, name='conv1_drop')\n",
    "    conv2 = conv2d(conv1_drop, weights['W_conv2'], strides=[1,1,1,1], padding='SAME', name='conv2_op')\n",
    "    conv2_act = tf.nn.relu(conv2 + biases['b_conv2'], name='conv2_act')\n",
    "    conv2_pool = max_2x2_pool(conv2_act, padding='VALID', name='conv2_pool')\n",
    "    pool2_drop = tf.nn.dropout(conv2_pool, keep_prob=k_p_conv, name='conv2_drop')\n",
    "\n",
    "    #Convolution block 2\n",
    "    conv3 = conv2d(pool2_drop, weights['W_conv3'], strides=[1,1,1,1], padding='VALID', name='conv3_op')\n",
    "    conv3_act = tf.nn.relu(conv3 + biases['b_conv3'], name='conv3_act')\n",
    "    conv3_drop = tf.nn.dropout(conv3_act, keep_prob=k_p_conv, name='conv3_drop')\n",
    "    conv4 = conv2d(conv3_drop, weights['W_conv4'], strides=[1,1,1,1], padding='SAME', name='conv4_op')\n",
    "    conv4_act = tf.nn.relu(conv4 + biases['b_conv4'], name='conv4_act')\n",
    "    conv4_pool = max_2x2_pool(conv4_act, padding='VALID', name='conv4_pool')\n",
    "    conv4_drop = tf.nn.dropout(conv4_pool, keep_prob, name='conv4_drop')\n",
    "\n",
    "    conv5 = conv2d(conv4_drop, weights['W_conv5'], strides=[1,1,1,1], padding='VALID', name='conv5_op')\n",
    "    conv5_act = tf.nn.relu(conv5 + biases['b_conv5'], name='conv5_act')\n",
    "    conv5_pool = max_2x2_pool(conv5_act, padding='VALID', name='conv5_pool')\n",
    "    conv5_drop = tf.nn.dropout(conv5_pool, keep_prob, name='conv5_drop')\n",
    "\n",
    "    fc0 = flatten(conv5_drop)\n",
    "    fc1 = tf.nn.relu( tf.matmul( fc0, weights['W_fc1'] ) + biases['b_fc1'], name='fc1' )\n",
    "    fc1_drop = tf.nn.dropout(fc1, keep_prob, name='fc1_drop')\n",
    "    fc2 = tf.nn.relu( tf.matmul( fc1_drop, weights['W_fc2'] ) + biases['b_fc2'], name='fc2' )\n",
    "    fc2_drop = tf.nn.dropout(fc2, keep_prob, name='fc2_drop')\n",
    "    logits = tf.add(tf.matmul(fc2_drop, weights['W_fc3']),biases['b_fc3'], name='logits')  \n",
    "\n",
    "    return logits\n",
    "\n",
    "\n"
   ]
  },
  {
   "cell_type": "code",
   "execution_count": null,
   "metadata": {},
   "outputs": [],
   "source": []
  },
  {
   "cell_type": "markdown",
   "metadata": {},
   "source": [
    "### Train, Validate and Test the Model"
   ]
  },
  {
   "cell_type": "markdown",
   "metadata": {},
   "source": [
    "A validation set can be used to assess how well the model is performing. A low accuracy on the training and validation\n",
    "sets imply underfitting. A high accuracy on the training set but low accuracy on the validation set implies overfitting."
   ]
  },
  {
   "cell_type": "code",
   "execution_count": 7,
   "metadata": {
    "scrolled": true
   },
   "outputs": [
    {
     "name": "stdout",
     "output_type": "stream",
     "text": [
      "WARNING:tensorflow:From <ipython-input-7-9dd85b0c1135>:39: softmax_cross_entropy_with_logits (from tensorflow.python.ops.nn_ops) is deprecated and will be removed in a future version.\n",
      "Instructions for updating:\n",
      "\n",
      "Future major versions of TensorFlow will allow gradients to flow\n",
      "into the labels input on backprop by default.\n",
      "\n",
      "See @{tf.nn.softmax_cross_entropy_with_logits_v2}.\n",
      "\n",
      "Epoch  1, Batch 809 - Loss:  1801.4241 Validation Accuracy: 0.665760\n",
      "Epoch  2, Batch 809 - Loss:   335.1975 Validation Accuracy: 0.898639\n",
      "Epoch  3, Batch 809 - Loss:   121.1222 Validation Accuracy: 0.970295\n",
      "Epoch  4, Batch 809 - Loss:    49.7612 Validation Accuracy: 0.988662\n",
      "Epoch  5, Batch 809 - Loss:    26.5247 Validation Accuracy: 0.987075\n",
      "Epoch  6, Batch 809 - Loss:    19.8635 Validation Accuracy: 0.986621\n",
      "Epoch  7, Batch 809 - Loss:    15.7582 Validation Accuracy: 0.993424\n",
      "Epoch  8, Batch 809 - Loss:    14.0208 Validation Accuracy: 0.995692\n",
      "Epoch  9, Batch 809 - Loss:    13.7380 Validation Accuracy: 0.994785\n",
      "Epoch 10, Batch 809 - Loss:    11.3497 Validation Accuracy: 0.991837\n",
      "Epoch 11, Batch 809 - Loss:    10.9467 Validation Accuracy: 0.995011\n",
      "Epoch 12, Batch 809 - Loss:    10.5471 Validation Accuracy: 0.989116\n",
      "Epoch 13, Batch 809 - Loss:    10.4905 Validation Accuracy: 0.990249\n",
      "Epoch 14, Batch 809 - Loss:     9.3275 Validation Accuracy: 0.994331\n",
      "Epoch 15, Batch 809 - Loss:     9.1258 Validation Accuracy: 0.995465\n",
      "Epoch 16, Batch 809 - Loss:     7.7087 Validation Accuracy: 0.995692\n",
      "Epoch 17, Batch 809 - Loss:     7.7437 Validation Accuracy: 0.996145\n",
      "Epoch 18, Batch 809 - Loss:     7.1070 Validation Accuracy: 0.995918\n",
      "Epoch 19, Batch 809 - Loss:     8.8863 Validation Accuracy: 0.990023\n",
      "Epoch 20, Batch 809 - Loss:     8.7731 Validation Accuracy: 0.987755\n",
      "Testing Accuracy: 0.9662707837724723\n",
      "done\n"
     ]
    }
   ],
   "source": [
    "### Train your model here.\n",
    "### Calculate and report the accuracy on the training and validation set.\n",
    "### Once a final model architecture is selected, \n",
    "### the accuracy on the test set should be calculated and reported as well.\n",
    "### Feel free to use as many code cells as needed.\n",
    "# tf Graph input\n",
    "from tensorflow.contrib.layers import flatten\n",
    "from sklearn.utils import shuffle\n",
    "\n",
    "def evaluate(X_data, y_data):\n",
    "    num_examples = len(X_data)\n",
    "    total_accuracy = 0 \n",
    "    sess = tf.get_default_session()\n",
    "    for offset in range(0, num_examples, batch_size):\n",
    "        batch_x, batch_y = X_data[offset:offset+batch_size], y_data[offset:offset+batch_size]\n",
    "        accuracy = sess.run(accuracy_operation, feed_dict={x: batch_x, y: batch_y, k_p_conv:1,keep_prob:1})\n",
    "        total_accuracy += (accuracy * len(batch_x))\n",
    "    return total_accuracy / num_examples\n",
    "\n",
    "\n",
    "k_p_conv = tf.placeholder(tf.float32,name='k_p_conv')\n",
    "\n",
    "x = tf.placeholder(tf.float32, [None, 32, 32, 1], name=\"x\")\n",
    "y = tf.placeholder(tf.int32, [None], name=\"y\")\n",
    "one_hot_y = tf.one_hot(y, n_classes, name=\"one_hot_y\")\n",
    "\n",
    "keep_prob = tf.placeholder(tf.float32)\n",
    "\n",
    "# Model\n",
    "logits = traffic_model(x, keep_prob, k_p_conv, weights, biases)\n",
    "\n",
    "# Define loss and optimizer\n",
    "regularizer = 0\n",
    "for name, w in weights.items():\n",
    "    regularizer += tf.nn.l2_loss(w)\n",
    "for name, b in biases.items():\n",
    "    regularizer += tf.nn.l2_loss(b)\n",
    "\n",
    "cost = tf.reduce_mean(tf.nn.softmax_cross_entropy_with_logits(logits=logits, labels=one_hot_y)\n",
    "                     #+ regularization_param * regularizer\n",
    "                     )\n",
    "#optimizer = tf.train.GradientDescentOptimizer(learning_rate=learning_rate).minimize(cost)\n",
    "optimizer = tf.train.AdamOptimizer(learning_rate=learning_rate).minimize(cost)\n",
    "#optimizer = tf.train.AdagradOptimizer(learning_rate=learning_rate).minimize(cost)\n",
    "\n",
    "# Accuracy\n",
    "correct_pred = tf.equal(tf.argmax(logits, 1), tf.argmax(one_hot_y, 1))\n",
    "accuracy_operation = tf.reduce_mean(tf.cast(correct_pred, tf.float32))\n",
    "\n",
    "# Initializing the variables\n",
    "init = tf.global_variables_initializer()\n",
    "\n",
    "\n",
    "# Launch the graph\n",
    "with tf.Session() as sess:\n",
    "    sess.run(init)\n",
    "    \n",
    "\n",
    "    for epoch in range(epochs):\n",
    "        \"\"\"\n",
    "        X_train, y_train = shuffle(X_train, y_train)\n",
    "        loss = 0\n",
    "        train_acc = 0\n",
    "        for batch in range(n_train//batch_size):\n",
    "            batch_x = X_train[batch*batch_size:(batch+1)*batch_size]\n",
    "            batch_y = y_train[batch*batch_size:(batch+1)*batch_size]\n",
    "            #print(batch_x.shape)\n",
    "            #xxx = sess.run(logits, feed_dict={x: batch_x, y: batch_y, keep_prob: 1.})\n",
    "            #print(xxx.shape)\n",
    "            sess.run(optimizer, feed_dict={x: batch_x, y: batch_y, keep_prob: dropout})\n",
    "            loss += sess.run(cost, feed_dict={x: batch_x, y: batch_y, keep_prob: 1.})\n",
    "        \"\"\"\n",
    "        loss = 0\n",
    "        for batch in range(n_train//(num_per_label*n_classes)):\n",
    "            \n",
    "            train_x = []\n",
    "            train_y = []\n",
    "            for label, imagelst in categoried_train_dat.items():\n",
    "                dataset = shuffle(imagelst)[:num_per_label]\n",
    "                train_y.extend([label for i in range(len(dataset))])\n",
    "                train_x.extend(dataset)\n",
    "            train_x, train_y = shuffle(train_x, train_y)\n",
    "\n",
    "            sess.run(optimizer, feed_dict={x: train_x, y: train_y, keep_prob:keep_rate, k_p_conv:kp_conv})\n",
    "            loss += sess.run(cost, feed_dict={x: train_x, y: train_y, k_p_conv:1,keep_prob:1})    \n",
    "        \n",
    "        #train_acc = evaluate(preprocessed_train, y_train)\n",
    "        valid_acc = evaluate(X_valid, y_valid)\n",
    "        print('Epoch {:>2}, Batch {:>3} - Loss: {:>10.4f} Validation Accuracy: {:.6f}'.format(\n",
    "            epoch + 1,\n",
    "            batch + 1,\n",
    "            loss,\n",
    "            valid_acc,\n",
    "        ))\n",
    "           # Calculate Test Accuracy\n",
    "    test_acc = evaluate(X_test, y_test)\n",
    "    print('Testing Accuracy: {}'.format(test_acc))\n",
    "    print(\"done\")\n",
    " "
   ]
  },
  {
   "cell_type": "markdown",
   "metadata": {},
   "source": [
    "---\n",
    "\n",
    "## Step 3: Test a Model on New Images\n",
    "\n",
    "To give yourself more insight into how your model is working, download at least five pictures of German traffic signs from the web and use your model to predict the traffic sign type.\n",
    "\n",
    "You may find `signnames.csv` useful as it contains mappings from the class id (integer) to the actual sign name."
   ]
  },
  {
   "cell_type": "markdown",
   "metadata": {},
   "source": [
    "### Load and Output the Images"
   ]
  },
  {
   "cell_type": "code",
   "execution_count": null,
   "metadata": {},
   "outputs": [],
   "source": [
    "### Load the images and plot them here.\n",
    "### Feel free to use as many code cells as needed."
   ]
  },
  {
   "cell_type": "markdown",
   "metadata": {},
   "source": [
    "### Predict the Sign Type for Each Image"
   ]
  },
  {
   "cell_type": "code",
   "execution_count": null,
   "metadata": {},
   "outputs": [],
   "source": [
    "### Run the predictions here and use the model to output the prediction for each image.\n",
    "### Make sure to pre-process the images with the same pre-processing pipeline used earlier.\n",
    "### Feel free to use as many code cells as needed."
   ]
  },
  {
   "cell_type": "markdown",
   "metadata": {},
   "source": [
    "### Analyze Performance"
   ]
  },
  {
   "cell_type": "code",
   "execution_count": null,
   "metadata": {},
   "outputs": [],
   "source": [
    "### Calculate the accuracy for these 5 new images. \n",
    "### For example, if the model predicted 1 out of 5 signs correctly, it's 20% accurate on these new images."
   ]
  },
  {
   "cell_type": "markdown",
   "metadata": {},
   "source": [
    "### Output Top 5 Softmax Probabilities For Each Image Found on the Web"
   ]
  },
  {
   "cell_type": "markdown",
   "metadata": {},
   "source": [
    "For each of the new images, print out the model's softmax probabilities to show the **certainty** of the model's predictions (limit the output to the top 5 probabilities for each image). [`tf.nn.top_k`](https://www.tensorflow.org/versions/r0.12/api_docs/python/nn.html#top_k) could prove helpful here. \n",
    "\n",
    "The example below demonstrates how tf.nn.top_k can be used to find the top k predictions for each image.\n",
    "\n",
    "`tf.nn.top_k` will return the values and indices (class ids) of the top k predictions. So if k=3, for each sign, it'll return the 3 largest probabilities (out of a possible 43) and the correspoding class ids.\n",
    "\n",
    "Take this numpy array as an example. The values in the array represent predictions. The array contains softmax probabilities for five candidate images with six possible classes. `tf.nn.top_k` is used to choose the three classes with the highest probability:\n",
    "\n",
    "```\n",
    "# (5, 6) array\n",
    "a = np.array([[ 0.24879643,  0.07032244,  0.12641572,  0.34763842,  0.07893497,\n",
    "         0.12789202],\n",
    "       [ 0.28086119,  0.27569815,  0.08594638,  0.0178669 ,  0.18063401,\n",
    "         0.15899337],\n",
    "       [ 0.26076848,  0.23664738,  0.08020603,  0.07001922,  0.1134371 ,\n",
    "         0.23892179],\n",
    "       [ 0.11943333,  0.29198961,  0.02605103,  0.26234032,  0.1351348 ,\n",
    "         0.16505091],\n",
    "       [ 0.09561176,  0.34396535,  0.0643941 ,  0.16240774,  0.24206137,\n",
    "         0.09155967]])\n",
    "```\n",
    "\n",
    "Running it through `sess.run(tf.nn.top_k(tf.constant(a), k=3))` produces:\n",
    "\n",
    "```\n",
    "TopKV2(values=array([[ 0.34763842,  0.24879643,  0.12789202],\n",
    "       [ 0.28086119,  0.27569815,  0.18063401],\n",
    "       [ 0.26076848,  0.23892179,  0.23664738],\n",
    "       [ 0.29198961,  0.26234032,  0.16505091],\n",
    "       [ 0.34396535,  0.24206137,  0.16240774]]), indices=array([[3, 0, 5],\n",
    "       [0, 1, 4],\n",
    "       [0, 5, 1],\n",
    "       [1, 3, 5],\n",
    "       [1, 4, 3]], dtype=int32))\n",
    "```\n",
    "\n",
    "Looking just at the first row we get `[ 0.34763842,  0.24879643,  0.12789202]`, you can confirm these are the 3 largest probabilities in `a`. You'll also notice `[3, 0, 5]` are the corresponding indices."
   ]
  },
  {
   "cell_type": "code",
   "execution_count": null,
   "metadata": {},
   "outputs": [],
   "source": [
    "### Print out the top five softmax probabilities for the predictions on the German traffic sign images found on the web. \n",
    "### Feel free to use as many code cells as needed."
   ]
  },
  {
   "cell_type": "markdown",
   "metadata": {},
   "source": [
    "### Project Writeup\n",
    "\n",
    "Once you have completed the code implementation, document your results in a project writeup using this [template](https://github.com/udacity/CarND-Traffic-Sign-Classifier-Project/blob/master/writeup_template.md) as a guide. The writeup can be in a markdown or pdf file. "
   ]
  },
  {
   "cell_type": "markdown",
   "metadata": {},
   "source": [
    "> **Note**: Once you have completed all of the code implementations and successfully answered each question above, you may finalize your work by exporting the iPython Notebook as an HTML document. You can do this by using the menu above and navigating to  \\n\",\n",
    "    \"**File -> Download as -> HTML (.html)**. Include the finished document along with this notebook as your submission."
   ]
  },
  {
   "cell_type": "markdown",
   "metadata": {},
   "source": [
    "---\n",
    "\n",
    "## Step 4 (Optional): Visualize the Neural Network's State with Test Images\n",
    "\n",
    " This Section is not required to complete but acts as an additional excersise for understaning the output of a neural network's weights. While neural networks can be a great learning device they are often referred to as a black box. We can understand what the weights of a neural network look like better by plotting their feature maps. After successfully training your neural network you can see what it's feature maps look like by plotting the output of the network's weight layers in response to a test stimuli image. From these plotted feature maps, it's possible to see what characteristics of an image the network finds interesting. For a sign, maybe the inner network feature maps react with high activation to the sign's boundary outline or to the contrast in the sign's painted symbol.\n",
    "\n",
    " Provided for you below is the function code that allows you to get the visualization output of any tensorflow weight layer you want. The inputs to the function should be a stimuli image, one used during training or a new one you provided, and then the tensorflow variable name that represents the layer's state during the training process, for instance if you wanted to see what the [LeNet lab's](https://classroom.udacity.com/nanodegrees/nd013/parts/fbf77062-5703-404e-b60c-95b78b2f3f9e/modules/6df7ae49-c61c-4bb2-a23e-6527e69209ec/lessons/601ae704-1035-4287-8b11-e2c2716217ad/concepts/d4aca031-508f-4e0b-b493-e7b706120f81) feature maps looked like for it's second convolutional layer you could enter conv2 as the tf_activation variable.\n",
    "\n",
    "For an example of what feature map outputs look like, check out NVIDIA's results in their paper [End-to-End Deep Learning for Self-Driving Cars](https://devblogs.nvidia.com/parallelforall/deep-learning-self-driving-cars/) in the section Visualization of internal CNN State. NVIDIA was able to show that their network's inner weights had high activations to road boundary lines by comparing feature maps from an image with a clear path to one without. Try experimenting with a similar test to show that your trained network's weights are looking for interesting features, whether it's looking at differences in feature maps from images with or without a sign, or even what feature maps look like in a trained network vs a completely untrained one on the same sign image.\n",
    "\n",
    "<figure>\n",
    " <img src=\"visualize_cnn.png\" width=\"380\" alt=\"Combined Image\" />\n",
    " <figcaption>\n",
    " <p></p> \n",
    " <p style=\"text-align: center;\"> Your output should look something like this (above)</p> \n",
    " </figcaption>\n",
    "</figure>\n",
    " <p></p> \n"
   ]
  },
  {
   "cell_type": "code",
   "execution_count": null,
   "metadata": {
    "collapsed": true
   },
   "outputs": [],
   "source": [
    "### Visualize your network's feature maps here.\n",
    "### Feel free to use as many code cells as needed.\n",
    "\n",
    "# image_input: the test image being fed into the network to produce the feature maps\n",
    "# tf_activation: should be a tf variable name used during your training procedure that represents the calculated state of a specific weight layer\n",
    "# activation_min/max: can be used to view the activation contrast in more detail, by default matplot sets min and max to the actual min and max values of the output\n",
    "# plt_num: used to plot out multiple different weight feature map sets on the same block, just extend the plt number for each new feature map entry\n",
    "\n",
    "def outputFeatureMap(image_input, tf_activation, activation_min=-1, activation_max=-1 ,plt_num=1):\n",
    "    # Here make sure to preprocess your image_input in a way your network expects\n",
    "    # with size, normalization, ect if needed\n",
    "    # image_input =\n",
    "    # Note: x should be the same name as your network's tensorflow data placeholder variable\n",
    "    # If you get an error tf_activation is not defined it may be having trouble accessing the variable from inside a function\n",
    "    activation = tf_activation.eval(session=sess,feed_dict={x : image_input})\n",
    "    featuremaps = activation.shape[3]\n",
    "    plt.figure(plt_num, figsize=(15,15))\n",
    "    for featuremap in range(featuremaps):\n",
    "        plt.subplot(6,8, featuremap+1) # sets the number of feature maps to show on each row and column\n",
    "        plt.title('FeatureMap ' + str(featuremap)) # displays the feature map number\n",
    "        if activation_min != -1 & activation_max != -1:\n",
    "            plt.imshow(activation[0,:,:, featuremap], interpolation=\"nearest\", vmin =activation_min, vmax=activation_max, cmap=\"gray\")\n",
    "        elif activation_max != -1:\n",
    "            plt.imshow(activation[0,:,:, featuremap], interpolation=\"nearest\", vmax=activation_max, cmap=\"gray\")\n",
    "        elif activation_min !=-1:\n",
    "            plt.imshow(activation[0,:,:, featuremap], interpolation=\"nearest\", vmin=activation_min, cmap=\"gray\")\n",
    "        else:\n",
    "            plt.imshow(activation[0,:,:, featuremap], interpolation=\"nearest\", cmap=\"gray\")"
   ]
  }
 ],
 "metadata": {
  "anaconda-cloud": {},
  "kernelspec": {
   "display_name": "Python 3",
   "language": "python",
   "name": "python3"
  },
  "language_info": {
   "codemirror_mode": {
    "name": "ipython",
    "version": 3
   },
   "file_extension": ".py",
   "mimetype": "text/x-python",
   "name": "python",
   "nbconvert_exporter": "python",
   "pygments_lexer": "ipython3",
   "version": "3.5.2"
  },
  "widgets": {
   "state": {},
   "version": "1.1.2"
  }
 },
 "nbformat": 4,
 "nbformat_minor": 1
}
